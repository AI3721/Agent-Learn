{
 "cells": [
  {
   "cell_type": "markdown",
   "metadata": {},
   "source": [
    "### 单轮对话"
   ]
  },
  {
   "cell_type": "code",
   "execution_count": null,
   "metadata": {},
   "outputs": [],
   "source": [
    "from openai import OpenAI\n",
    "client = OpenAI(\n",
    "    base_url=\"https://open.bigmodel.cn/api/paas/v4\",\n",
    "    api_key=\"77ff713fcbaf89e4dc2e623868e7e829.IUDHIW1kf1UdMB0f\"\n",
    ")\n",
    "completion = client.chat.completions.create(\n",
    "    model='glm-4-flash',\n",
    "    messages=[\n",
    "        {'role': 'system', 'content': \"你是一个AI小助手，你叫小智，你可以帮助用户处理表格。\"},\n",
    "        {'role': 'user', 'content': \"你叫什么名字？你可以做什么？\"}\n",
    "    ],\n",
    "    max_tokens=1024,\n",
    "    temperature=0.7,\n",
    ")\n",
    "completion.choices[0].message.content"
   ]
  },
  {
   "cell_type": "markdown",
   "metadata": {},
   "source": [
    "### LangChain单轮对话"
   ]
  },
  {
   "cell_type": "code",
   "execution_count": null,
   "metadata": {},
   "outputs": [],
   "source": [
    "from langchain_openai import ChatOpenAI\n",
    "from langchain.prompts import ChatPromptTemplate\n",
    "\n",
    "prompt_template = ChatPromptTemplate.from_messages([\n",
    "    (\"system\", \"你好，我是你的AI小助手————{name}。\"),\n",
    "    (\"human\", \"你好，你叫什么名字？你可以做什么？\"),\n",
    "])\n",
    "prompt_template.format(name=\"小智\")"
   ]
  },
  {
   "cell_type": "code",
   "execution_count": 10,
   "metadata": {},
   "outputs": [],
   "source": [
    "model = ChatOpenAI(\n",
    "    api_key=\"77ff713fcbaf89e4dc2e623868e7e829.IUDHIW1kf1UdMB0f\",\n",
    "    base_url=\"https://open.bigmodel.cn/api/paas/v4\",\n",
    "    model=\"glm-4-flash\",\n",
    "    max_tokens=1024,\n",
    "    temperature=0.7,\n",
    ")"
   ]
  },
  {
   "cell_type": "code",
   "execution_count": 34,
   "metadata": {},
   "outputs": [],
   "source": [
    "def output_parser(output: str):\n",
    "    parser_model = ChatOpenAI(\n",
    "        api_key=\"ff8ea6bbf49622f361baa8dcb0e6103e.564HDzPUS8rNujSw\",\n",
    "        base_url=\"https://open.bigmodel.cn/api/paas/v4\",\n",
    "        model=\"glm-3-turbo\",\n",
    "        max_tokens=1024,\n",
    "        temperature=0.3,\n",
    "    )\n",
    "    prompt = \"你需要将传入的文本改写，尽可能更自然。这是你需要改写的文本:'{text}'\"\n",
    "    return parser_model.invoke(prompt.format(text=output))"
   ]
  },
  {
   "cell_type": "code",
   "execution_count": null,
   "metadata": {},
   "outputs": [],
   "source": [
    "chain = prompt_template | model | output_parser\n",
    "answer = chain.invoke({\"name\": \"小智\"})\n",
    "print(answer.content)"
   ]
  },
  {
   "cell_type": "markdown",
   "metadata": {},
   "source": [
    "### 多轮对话"
   ]
  },
  {
   "cell_type": "code",
   "execution_count": null,
   "metadata": {},
   "outputs": [],
   "source": [
    "from langchain.prompts import ChatPromptTemplate\n",
    "from langchain.prompts import MessagesPlaceholder\n",
    "\n",
    "prompt_template = ChatPromptTemplate.from_messages([\n",
    "    (\"system\", \"你好，我是你的AI小助手————小杰。\"),\n",
    "    MessagesPlaceholder(variable_name=\"chat_history\"),\n",
    "    (\"human\", \"{query}\"),\n",
    "])\n",
    "prompt_template.invoke({\n",
    "    \"name\": \"小智\",\n",
    "    \"chat_history\": [\n",
    "        (\"human\", \"讲一个故事\"),\n",
    "        (\"ai\", \"龟兔赛跑\"),\n",
    "    ],\n",
    "    \"query\": \"讲一个笑话\",\n",
    "}).messages"
   ]
  },
  {
   "cell_type": "code",
   "execution_count": null,
   "metadata": {},
   "outputs": [],
   "source": [
    "from langchain_openai import ChatOpenAI\n",
    "model = ChatOpenAI(\n",
    "    api_key=\"77ff713fcbaf89e4dc2e623868e7e829.IUDHIW1kf1UdMB0f\",\n",
    "    base_url=\"https://open.bigmodel.cn/api/paas/v4\",\n",
    "    model=\"glm-4-flash\",\n",
    "    max_tokens=1024,\n",
    "    temperature=0.7,\n",
    ")\n",
    "chain = prompt_template | model\n",
    "chat_history = []\n",
    "\n",
    "def chat(query):\n",
    "    answer = chain.invoke({\"name\": \"小智\", \"chat_history\": chat_history, \"query\": query})\n",
    "    chat_history.extend([(\"human\", query), (\"ai\", answer.content)])\n",
    "    return answer.content\n",
    "chat(\"你叫什么名字？\")"
   ]
  },
  {
   "cell_type": "markdown",
   "metadata": {},
   "source": [
    "### LangChain多轮对话"
   ]
  },
  {
   "cell_type": "code",
   "execution_count": null,
   "metadata": {},
   "outputs": [],
   "source": [
    "from langchain_community.chat_message_histories import ChatMessageHistory\n",
    "chat_history = ChatMessageHistory()\n",
    "chat_history.add_ai_message(\"你好，我是你的AI小助手————\")\n",
    "chat_history.add_user_message(\"你好，我是一名算法工程师，我今年22岁了\")\n",
    "chat_history.add_ai_message(\"你好，我是你的AI小助手————\")\n",
    "chat_history.messages"
   ]
  },
  {
   "cell_type": "code",
   "execution_count": null,
   "metadata": {},
   "outputs": [],
   "source": [
    "from langchain_core.runnables.history import RunnableWithMessageHistory\n",
    "chain = prompt_template | model\n",
    "chain_with_history = RunnableWithMessageHistory(\n",
    "    chain,\n",
    "    lambda x: chat_history,\n",
    "    input_messages_key=\"query\",\n",
    "    history_messages_key=\"chat_history\",\n",
    ")\n",
    "chain_with_history.invoke(\n",
    "    input={\"query\": \"我的职业是什么？你叫什么？\"},\n",
    "    config={\"configurable\": {\"session_id\": \"unused\"}},\n",
    ").content\n",
    "chat_history.messages"
   ]
  },
  {
   "cell_type": "code",
   "execution_count": null,
   "metadata": {},
   "outputs": [],
   "source": [
    "def trim_history(chain_input):\n",
    "    messages = chat_history.messages\n",
    "    if len(messages) > 2:\n",
    "        chat_history.clear()\n",
    "        for message in messages[-2:]:\n",
    "            chat_history.add_message(message)\n",
    "    return chain_input\n",
    "chain_with_trimming = trim_history | chain_with_memory\n",
    "chain_with_trimming.invoke(\n",
    "    input={\"query\": \"你叫什么？\"},\n",
    "    config={\"configurable\": {\"session_id\": \"unused\"}},\n",
    ").content\n",
    "chat_history.messages"
   ]
  },
  {
   "cell_type": "code",
   "execution_count": 27,
   "metadata": {},
   "outputs": [],
   "source": [
    "def summarize_messages(chain_input):\n",
    "    messages = chat_history.messages\n",
    "    if len(messages)>=6:\n",
    "        summarization_prompt = ChatPromptTemplate.from_messages([\n",
    "            MessagesPlaceholder(variable_name=\"chat_history\"),\n",
    "            (\"human\", \"将上述聊天信息提炼为一条摘要信息，尽可能多地包含具体细节。\")\n",
    "        ])\n",
    "        summarize_chain = summarization_prompt | model\n",
    "        summary_message = summarize_chain.invoke({\"chat_history\": messages})\n",
    "        chat_history.clear()\n",
    "        chat_history.add_message(summary_message)\n",
    "    return chain_input\n",
    "chain_with_summary = summarize_messages | chain_with_memory"
   ]
  },
  {
   "cell_type": "code",
   "execution_count": null,
   "metadata": {},
   "outputs": [],
   "source": [
    "chat_history.clear()\n",
    "chat_history.add_ai_message(\"你好，我是你的AI小助手————小智\")\n",
    "chat_history.add_user_message(\"你好，我是一名算法工程师，我今年22岁了\")\n",
    "chat_history.add_ai_message(\"你好，有什么我能帮助的吗\")\n",
    "chat_history.add_user_message(\"现在我想要学习深度学习，请问你推荐什么书籍\")\n",
    "chat_history.add_ai_message(\"深度学习入门书籍推荐：\\n1.深度学习入门指南\\n2.深度学习入门\\n3.深度学习入门（Python版）\")\n",
    "chat_history.add_user_message(\"谢谢\")\n",
    "chat_history.messages"
   ]
  },
  {
   "cell_type": "code",
   "execution_count": null,
   "metadata": {},
   "outputs": [],
   "source": [
    "chain_with_summary.invoke(\n",
    "    input={\"query\": \"我的职业是什么？\"},\n",
    "    config={\"configurable\": {\"session_id\": \"unused\"}},\n",
    ").content\n",
    "chat_history.messages"
   ]
  },
  {
   "cell_type": "markdown",
   "metadata": {},
   "source": [
    "### Agent"
   ]
  },
  {
   "cell_type": "code",
   "execution_count": 1,
   "metadata": {},
   "outputs": [],
   "source": [
    "import pandas as pd\n",
    "from pandasql import sqldf\n",
    "from langchain.tools import tool\n",
    "\n",
    "@tool\n",
    "def simulate_database_operation(sql: str):\n",
    "    '''根据sql语句操作数据库中的表'''\n",
    "    df_table = pd.DataFrame({\n",
    "        'time': ['2024-09-10', '2024-09-11', '2024-09-12'], \n",
    "        'inin': [7, 8, 9], \n",
    "        'out': [4, 5, 6], \n",
    "        'total': [3, 3, 3]})\n",
    "    result = sqldf(sql)\n",
    "    return result\n",
    "# simulate_database_operation('SELECT * FROM df_table')"
   ]
  },
  {
   "cell_type": "code",
   "execution_count": 2,
   "metadata": {},
   "outputs": [],
   "source": [
    "from langchain_openai import ChatOpenAI\n",
    "model = ChatOpenAI(\n",
    "    api_key=\"77ff713fcbaf89e4dc2e623868e7e829.IUDHIW1kf1UdMB0f\",\n",
    "    base_url=\"https://open.bigmodel.cn/api/paas/v4\",\n",
    "    model=\"glm-4-flash\",\n",
    "    max_tokens=1024,\n",
    "    temperature=0.7,\n",
    ")"
   ]
  },
  {
   "cell_type": "code",
   "execution_count": 3,
   "metadata": {},
   "outputs": [],
   "source": [
    "from langchain_community.tools import DuckDuckGoSearchRun\n",
    "tools = [DuckDuckGoSearchRun(), simulate_database_operation]\n",
    "# model_with_tools = model.bind_tools(tools)\n",
    "# model_with_tools.invoke(\"你好\")"
   ]
  },
  {
   "cell_type": "code",
   "execution_count": null,
   "metadata": {},
   "outputs": [],
   "source": [
    "def call_tool(model_output: str, tools: list[tool]):\n",
    "    tools_map = {tool.name.lower(): tool for tool in tools}\n",
    "    tools_response = {}\n",
    "    for tool in model_output.tool_calls:\n",
    "        tool_name = tool['name']\n",
    "        tool_args = tool['args']\n",
    "        tool_instance = tools_map[tool_name]\n",
    "        tool_response = tool_instance.invoke(*tool_args.values())\n",
    "        tools_response[tool_name] = tool_response\n",
    "    return tools_response\n",
    "\n",
    "def manual_agent(query: str, model: ChatOpenAI, tools: list[tool]):\n",
    "    model_with_tools = model.bind_tools(tools)\n",
    "    model_output = model_with_tools.invoke(query)\n",
    "    tool_response = call_tool(model_output, tools)\n",
    "    final_response = model.invoke(f'original query: {query} \\n\\n\\n tool response: {tool_response}')\n",
    "    return final_response\n",
    "manual_agent(\"查询df_table表中inin大于2的数据\", model, tools).content\n",
    "# manual_agent(\"插入df_table表中一行数据，time为2024-10-07，inin为4，out为4，total为0\", model, tools).content"
   ]
  },
  {
   "cell_type": "markdown",
   "metadata": {},
   "source": [
    "### Agent Langgraph"
   ]
  },
  {
   "cell_type": "code",
   "execution_count": null,
   "metadata": {},
   "outputs": [],
   "source": [
    "from langgraph.prebuilt import create_react_agent\n",
    "from langchain_core.messages import HumanMessage\n",
    "agent = create_react_agent(model, tools)\n",
    "answer = agent.invoke({'messages': [HumanMessage(\"查询df_table表中out大于5的数据个数\")]})\n",
    "answer['messages'][-1].content"
   ]
  },
  {
   "cell_type": "code",
   "execution_count": null,
   "metadata": {},
   "outputs": [],
   "source": [
    "from langchain.tools\n",
    "from langchain_community.tools\n",
    "from langchain_experimental.agents import create_pandas_dataframe_agent, create_csv_agent"
   ]
  }
 ],
 "metadata": {
  "kernelspec": {
   "display_name": "base",
   "language": "python",
   "name": "python3"
  },
  "language_info": {
   "codemirror_mode": {
    "name": "ipython",
    "version": 3
   },
   "file_extension": ".py",
   "mimetype": "text/x-python",
   "name": "python",
   "nbconvert_exporter": "python",
   "pygments_lexer": "ipython3",
   "version": "3.11.9"
  }
 },
 "nbformat": 4,
 "nbformat_minor": 2
}
